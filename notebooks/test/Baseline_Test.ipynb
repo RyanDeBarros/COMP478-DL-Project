{
  "cells": [
    {
      "cell_type": "markdown",
      "metadata": {
        "id": "cOLUxJhQiE9J"
      },
      "source": [
        "Install all required packages and libraries"
      ]
    },
    {
      "cell_type": "code",
      "execution_count": null,
      "metadata": {
        "collapsed": true,
        "id": "sEOFZ7abh-Ct"
      },
      "outputs": [],
      "source": [
        "!pip install ultralytics torch torchvision torchaudio --index-url https://download.pytorch.org/whl/cu118\n",
        "!pip install opencv-python matplotlib seaborn pandas numpy Pillow\n",
        "!pip install roboflow supervision\n",
        "!pip install colorama"
      ]
    },
    {
      "cell_type": "markdown",
      "metadata": {
        "id": "VQ_zhp-6iYFI"
      },
      "source": [
        "Get YOLO detector"
      ]
    },
    {
      "cell_type": "code",
      "execution_count": null,
      "metadata": {
        "collapsed": true,
        "id": "6BMS_D1NiVyg"
      },
      "outputs": [],
      "source": [
        "!git clone https://github.com/ultralytics/yolov5\n",
        "%cd yolov5\n",
        "!pip install -r requirements.txt\n",
        "%cd .."
      ]
    },
    {
      "cell_type": "markdown",
      "metadata": {
        "id": "46f8YL7ggsK_"
      },
      "source": [
        "Load datasets"
      ]
    },
    {
      "cell_type": "code",
      "execution_count": null,
      "metadata": {
        "id": "CB4UkOVjHTV0"
      },
      "outputs": [],
      "source": [
        "import os\n",
        "\n",
        "from pathlib import Path\n",
        "\n",
        "from google.colab import drive\n",
        "\n",
        "drive.mount('/content/drive')\n",
        "\n",
        "SHARED_PATH = Path(\"drive/MyDrive/Colab Notebooks/Shared\")\n",
        "HRSC_PATH = SHARED_PATH / \"HRSC2016_Final_Splits\"\n",
        "DOTA_PATH = SHARED_PATH / \"DOTA_Final_Splits\"\n",
        "\n",
        "print(\"HRSC important subfolders:\", [f\"{subfolder.name}/{path.name}\" for subfolder in HRSC_PATH.iterdir() for path in subfolder.iterdir()])\n",
        "print(\"DOTA important subfolders:\", [f\"{subfolder.name}/{path.name}\" for subfolder in DOTA_PATH.iterdir() for path in subfolder.iterdir()])\n",
        "\n",
        "HRSC_TRAIN_IMAGES = HRSC_PATH/ \"train/images\"\n",
        "HRSC_TRAIN_ANNOTATIONS = HRSC_PATH / \"train/annotations\"\n",
        "HRSC_VAL_IMAGES = HRSC_PATH / \"val/images\"\n",
        "HRSC_VAL_ANNOTATIONS = HRSC_PATH / \"val/annotations\"\n",
        "HRSC_TEST_IMAGES = HRSC_PATH / \"test/images\"\n",
        "HRSC_TEST_ANNOTATIONS = HRSC_PATH / \"test/annotations\"\n",
        "\n",
        "DOTA_TRAIN_IMAGES = DOTA_PATH / \"train/images\"\n",
        "DOTA_TRAIN_ANNOTATIONS = DOTA_PATH / \"train/hbb\"\n",
        "DOTA_VAL_IMAGES = DOTA_PATH / \"val/images\"\n",
        "DOTA_VAL_ANNOTATIONS = DOTA_PATH / \"val/hbb\"\n",
        "DOTA_TEST_IMAGES = DOTA_PATH / \"test/images\"\n",
        "DOTA_TEST_ANNOTATIONS = DOTA_PATH / \"test/hbb\""
      ]
    },
    {
      "cell_type": "markdown",
      "metadata": {
        "id": "GYUVtckyjnmu"
      },
      "source": [
        "Explore datasets"
      ]
    },
    {
      "cell_type": "code",
      "execution_count": null,
      "metadata": {
        "collapsed": true,
        "id": "-zit7gUWjsCZ"
      },
      "outputs": [],
      "source": [
        "from colorama import Fore, Style\n",
        "\n",
        "def explore_header(dataset: str, subfolder: str):\n",
        "  print(\"Exploring\", Fore.GREEN + dataset + Style.RESET_ALL, Fore.MAGENTA + subfolder + Style.RESET_ALL, \"folder...\")\n",
        "\n",
        "def explore(images_folder: Path, ext: str):\n",
        "  files = list(images_folder.glob(f\"*.{ext}\"))\n",
        "  print(f\"Number of {ext.upper()} files:\", len(files))\n",
        "  print(f\"{ext.upper()} sample files:\", [path.name for path in files[:3]])\n",
        "\n",
        "explore_header(\"HRSC\", \"train\")\n",
        "explore(HRSC_TRAIN_IMAGES, \"bmp\")\n",
        "explore(HRSC_TRAIN_ANNOTATIONS, \"xml\")\n",
        "\n",
        "print()\n",
        "\n",
        "explore_header(\"HRSC\", \"val\")\n",
        "explore(HRSC_VAL_IMAGES, \"bmp\")\n",
        "explore(HRSC_VAL_ANNOTATIONS, \"xml\")\n",
        "\n",
        "print()\n",
        "\n",
        "explore_header(\"HRSC\", \"test\")\n",
        "explore(HRSC_TEST_IMAGES, \"bmp\")\n",
        "explore(HRSC_TEST_ANNOTATIONS, \"xml\")\n",
        "\n",
        "print()\n",
        "\n",
        "explore_header(\"DOTA\", \"train\")\n",
        "explore(DOTA_TRAIN_IMAGES, \"png\")\n",
        "explore(DOTA_TRAIN_ANNOTATIONS, \"txt\")\n",
        "\n",
        "print()\n",
        "\n",
        "explore_header(\"DOTA\", \"val\")\n",
        "explore(DOTA_VAL_IMAGES, \"png\")\n",
        "explore(DOTA_VAL_ANNOTATIONS, \"txt\")\n",
        "\n",
        "print()\n",
        "\n",
        "explore_header(\"DOTA\", \"test\")\n",
        "explore(DOTA_TEST_IMAGES, \"png\")\n",
        "explore(DOTA_TEST_ANNOTATIONS, \"txt\")\n"
      ]
    },
    {
      "cell_type": "markdown",
      "metadata": {
        "id": "vfqsJ_Rqtzu3"
      },
      "source": [
        "Match images with annotations"
      ]
    },
    {
      "cell_type": "code",
      "execution_count": null,
      "metadata": {
        "id": "I5KEnEnOuarP"
      },
      "outputs": [],
      "source": [
        "class Dataset:\n",
        "  def __init__(self, images_folder: Path, image_ext: str, annotations_folder: Path, annotation_ext: str):\n",
        "    self.images_folder = images_folder\n",
        "    self.annotations_folder = annotations_folder\n",
        "    self.images = list(images_folder.glob(image_ext))\n",
        "    self.annotations = list(annotations_folder.glob(annotation_ext))\n",
        "\n",
        "    image_ids = set(path.stem for path in self.images)\n",
        "    annotation_ids = set(path.stem for path in self.annotations)\n",
        "    self.ids = set(image_ids) & set(annotation_ids)\n",
        "    self.images = [path for path in self.images if path.stem in self.ids]\n",
        "    self.annotations = [path for path in self.annotations if path.stem in self.ids]\n",
        "\n",
        "HRSC_TRAIN_DATASET = Dataset(HRSC_TRAIN_IMAGES, \"*.bmp\", HRSC_TRAIN_ANNOTATIONS, \"*.xml\")\n",
        "print(\"HRSC train dataset sample:\", list(HRSC_TRAIN_DATASET.ids)[:5])\n",
        "HRSC_VAL_DATASET = Dataset(HRSC_VAL_IMAGES, \"*.bmp\", HRSC_VAL_ANNOTATIONS, \"*.xml\")\n",
        "print(\"HRSC val dataset sample:\", list(HRSC_VAL_DATASET.ids)[:5])\n",
        "HRSC_TEST_DATASET = Dataset(HRSC_TEST_IMAGES, \"*.bmp\", HRSC_TEST_ANNOTATIONS, \"*.xml\")\n",
        "print(\"HRSC test dataset sample:\", list(HRSC_TEST_DATASET.ids)[:5])\n",
        "\n",
        "DOTA_TRAIN_DATASET = Dataset(DOTA_TRAIN_IMAGES, \"*.png\", DOTA_TRAIN_ANNOTATIONS, \"*.txt\")\n",
        "print(\"DOTA train dataset sample:\", list(DOTA_TRAIN_DATASET.ids)[:5])\n",
        "DOTA_VAL_DATASET = Dataset(DOTA_VAL_IMAGES, \"*.png\", DOTA_VAL_ANNOTATIONS, \"*.txt\")\n",
        "print(\"DOTA val dataset sample:\", list(DOTA_VAL_DATASET.ids)[:5])\n",
        "DOTA_TEST_DATASET = Dataset(DOTA_TEST_IMAGES, \"*.png\", DOTA_TEST_ANNOTATIONS, \"*.txt\")\n",
        "print(\"DOTA test dataset sample:\", list(DOTA_TEST_DATASET.ids)[:5])\n"
      ]
    },
    {
      "cell_type": "markdown",
      "metadata": {
        "id": "hhV95WFzZVvT"
      },
      "source": [
        "Populate Yolo datasets"
      ]
    },
    {
      "cell_type": "code",
      "execution_count": null,
      "metadata": {
        "id": "wGB32YbXZVRM"
      },
      "outputs": [],
      "source": [
        "YOLO_HRSC_PATH = Path(\"yolo\") / \"HRSC\"\n",
        "YOLO_DOTA_PATH = Path(\"yolo\") / \"DOTA\"\n",
        "\n",
        "# YOLO expects this file structure:\n",
        "# ...dataset/\n",
        "# ├── images/\n",
        "# │   ├── train/\n",
        "# │   ├── val/\n",
        "# │   └── test/\n",
        "# └── labels/\n",
        "#     ├── train/\n",
        "#     ├── val/\n",
        "#     └── test/\n",
        "\n",
        "YOLO_HRSC_TRAIN_IMAGES = YOLO_HRSC_PATH / \"images/train\"\n",
        "YOLO_HRSC_TRAIN_LABELS = YOLO_HRSC_PATH / \"labels/train\"\n",
        "YOLO_HRSC_VAL_IMAGES = YOLO_HRSC_PATH / \"images/val\"\n",
        "YOLO_HRSC_VAL_LABELS = YOLO_HRSC_PATH / \"labels/val\"\n",
        "YOLO_HRSC_TEST_IMAGES = YOLO_HRSC_PATH / \"images/test\"\n",
        "YOLO_HRSC_TEST_LABELS = YOLO_HRSC_PATH / \"labels/test\"\n",
        "\n",
        "YOLO_DOTA_TRAIN_IMAGES = YOLO_DOTA_PATH / \"images/train\"\n",
        "YOLO_DOTA_TRAIN_LABELS = YOLO_DOTA_PATH / \"labels/train\"\n",
        "YOLO_DOTA_VAL_IMAGES = YOLO_DOTA_PATH / \"images/val\"\n",
        "YOLO_DOTA_VAL_LABELS = YOLO_DOTA_PATH / \"labels/val\"\n",
        "YOLO_DOTA_TEST_IMAGES = YOLO_DOTA_PATH / \"images/test\"\n",
        "YOLO_DOTA_TEST_LABELS = YOLO_DOTA_PATH / \"labels/test\"\n",
        "\n",
        "for p in [\n",
        "  YOLO_HRSC_TRAIN_IMAGES, YOLO_HRSC_TRAIN_LABELS,\n",
        "  YOLO_HRSC_VAL_IMAGES, YOLO_HRSC_VAL_LABELS,\n",
        "  YOLO_HRSC_TEST_IMAGES, YOLO_HRSC_TEST_LABELS,\n",
        "  YOLO_DOTA_TRAIN_IMAGES, YOLO_DOTA_TRAIN_LABELS,\n",
        "  YOLO_DOTA_VAL_IMAGES, YOLO_DOTA_VAL_LABELS,\n",
        "  YOLO_DOTA_TEST_IMAGES, YOLO_DOTA_TEST_LABELS,\n",
        "]:\n",
        "  p.mkdir(parents=True, exist_ok=True)\n",
        "\n",
        "import itertools\n",
        "\n",
        "def rsync_dataset(dataset: Dataset, images_folder: Path, labels_folder: Path):\n",
        "  os.system(f'rsync -av --progress \"{dataset.images_folder}/\" \"{images_folder}/\"')\n",
        "  os.system(f'rsync -av --progress \"{dataset.annotations_folder}/\" \"{labels_folder}/\"')\n",
        "\n",
        "  for f in itertools.chain(images_folder.iterdir(), labels_folder.iterdir()):\n",
        "    if f.stem not in dataset.ids:\n",
        "      f.unlink()\n",
        "\n",
        "print(\"Copying HRCS training dataset...\")\n",
        "rsync_dataset(HRSC_TRAIN_DATASET, YOLO_HRSC_TRAIN_IMAGES, YOLO_HRSC_TRAIN_LABELS)\n",
        "print(\"...Copied!\")\n",
        "print(\"Copying HRCS validation dataset...\")\n",
        "rsync_dataset(HRSC_VAL_DATASET, YOLO_HRSC_VAL_IMAGES, YOLO_HRSC_VAL_LABELS)\n",
        "print(\"...Copied!\")\n",
        "print(\"Copying HRCS testing dataset...\")\n",
        "rsync_dataset(HRSC_TEST_DATASET, YOLO_HRSC_TEST_IMAGES, YOLO_HRSC_TEST_LABELS)\n",
        "print(\"...Copied!\")\n",
        "print(\"Copying DOTA training dataset...\")\n",
        "rsync_dataset(DOTA_TRAIN_DATASET, YOLO_DOTA_TRAIN_IMAGES, YOLO_DOTA_TRAIN_LABELS)\n",
        "print(\"...Copied!\")\n",
        "print(\"Copying DOTA validation dataset...\")\n",
        "rsync_dataset(DOTA_VAL_DATASET, YOLO_DOTA_VAL_IMAGES, YOLO_DOTA_VAL_LABELS)\n",
        "print(\"...Copied!\")\n",
        "print(\"Copying DOTA testing dataset...\")\n",
        "rsync_dataset(DOTA_TEST_DATASET, YOLO_DOTA_TEST_IMAGES, YOLO_DOTA_TEST_LABELS)\n",
        "print(\"...Copied!\")"
      ]
    },
    {
      "cell_type": "markdown",
      "metadata": {
        "id": "DneUqDuQoZ0W"
      },
      "source": [
        "Convert HRSC annotations to YOLO format"
      ]
    },
    {
      "cell_type": "code",
      "execution_count": null,
      "metadata": {
        "id": "IBL2jxWiofQi"
      },
      "outputs": [],
      "source": [
        "import xml.etree.ElementTree as ET\n",
        "\n",
        "HRSC_CLASSES = {}\n",
        "\n",
        "def convert_hrsc_annotation_to_yolo_format(label_file: Path) -> int:\n",
        "  try:\n",
        "    tree = ET.parse(label_file.as_posix())\n",
        "    root = tree.getroot()\n",
        "\n",
        "    # Get image dimensions\n",
        "    width = int(root.find('.//Img_SizeWidth').text)\n",
        "    height = int(root.find('.//Img_SizeHeight').text)\n",
        "\n",
        "    yolo_lines = []\n",
        "\n",
        "    # Find all objects\n",
        "    objects = root.findall('.//HRSC_Object')\n",
        "    for obj in objects:\n",
        "      try:\n",
        "        # Get bounding box coordinates\n",
        "        xmin = float(obj.find('box_xmin').text)\n",
        "        ymin = float(obj.find('box_ymin').text)\n",
        "        xmax = float(obj.find('box_xmax').text)\n",
        "        ymax = float(obj.find('box_ymax').text)\n",
        "\n",
        "        # Convert to YOLO format (normalized)\n",
        "        x_center = (xmin + xmax) / 2 / width\n",
        "        y_center = (ymin + ymax) / 2 / height\n",
        "        bbox_width = (xmax - xmin) / width\n",
        "        bbox_height = (ymax - ymin) / height\n",
        "\n",
        "        # Class ID\n",
        "        class_id = int(obj.find('Class_ID').text)\n",
        "        if class_id not in HRSC_CLASSES:\n",
        "          HRSC_CLASSES[class_id] = len(HRSC_CLASSES)\n",
        "        class_id_index = HRSC_CLASSES[class_id]\n",
        "\n",
        "        yolo_lines.append(f\"{class_id_index} {x_center:.6f} {y_center:.6f} {bbox_width:.6f} {bbox_height:.6f}\")\n",
        "\n",
        "      except Exception as e:\n",
        "        print(f\"Warning: Could not parse object in {label_file.as_posix()}: {e}\")\n",
        "        continue\n",
        "\n",
        "    # Write YOLO format file\n",
        "    with open(label_file, 'w') as f:\n",
        "      f.write('\\n'.join(yolo_lines))\n",
        "    renamed_path = label_file.with_suffix('.txt')\n",
        "    if renamed_path.exists():\n",
        "      renamed_path.unlink()\n",
        "    label_file.rename(renamed_path)\n",
        "\n",
        "    return len(yolo_lines)\n",
        "\n",
        "  except Exception as e:\n",
        "    print(f\"Error processing {label_file.as_posix()}: {e}\")\n",
        "    return 0\n",
        "\n",
        "\n",
        "print(\"Converting training annotations...\")\n",
        "total_objects = 0\n",
        "for label_file in YOLO_HRSC_TRAIN_LABELS.iterdir():\n",
        "  objects_count = convert_hrsc_annotation_to_yolo_format(label_file)\n",
        "  total_objects += objects_count\n",
        "print(f\"...Conversion complete: {total_objects} total objects\")\n",
        "\n",
        "print(\"Converting validation annotations...\")\n",
        "total_objects = 0\n",
        "for label_file in YOLO_HRSC_VAL_LABELS.iterdir():\n",
        "  objects_count = convert_hrsc_annotation_to_yolo_format(label_file)\n",
        "  total_objects += objects_count\n",
        "print(f\"...Conversion complete: {total_objects} total objects\")\n",
        "\n",
        "print(\"Converting testing annotations...\")\n",
        "total_objects = 0\n",
        "for label_file in YOLO_HRSC_TEST_LABELS.iterdir():\n",
        "  objects_count = convert_hrsc_annotation_to_yolo_format(label_file)\n",
        "  total_objects += objects_count\n",
        "print(f\"...Conversion complete: {total_objects} total objects\")"
      ]
    },
    {
      "cell_type": "markdown",
      "source": [
        "Convert DOTA annotations to YOLO format"
      ],
      "metadata": {
        "id": "6JLnDoDPTE8a"
      }
    },
    {
      "cell_type": "code",
      "source": [
        "import itertools\n",
        "\n",
        "from PIL import Image\n",
        "\n",
        "DOTA_CLASSES = {}\n",
        "\n",
        "def convert_dota_annotation_to_yolo_format(label_file: Path) -> int:\n",
        "  try:\n",
        "    # Get image dimensions\n",
        "    img_path = label_file.parents[2] / \"images\" / label_file.relative_to(label_file.parents[1]).with_suffix('.png')\n",
        "    with Image.open(img_path) as img:\n",
        "      width, height = img.size\n",
        "\n",
        "    yolo_lines = []\n",
        "\n",
        "    # Find all objects\n",
        "    for line in itertools.islice(label_file.read_text().splitlines(), 2, None):  # Start from line index 2\n",
        "      try:\n",
        "        obj = line.strip().split()\n",
        "        x1, y1, x2, y2, x3, y3, x4, y4, category, difficulty = (*map(float, obj[:8]), *obj[8:])\n",
        "\n",
        "        # Get bounding box coordinates\n",
        "        xmin = min(x1, x2, x3, x4)\n",
        "        ymin = min(y1, y2, y3, y4)\n",
        "        xmax = max(x1, x2, x3, x4)\n",
        "        ymax = max(y1, y2, y3, y4)\n",
        "\n",
        "        # Convert to YOLO format (normalized)\n",
        "        x_center = (xmin + xmax) / 2 / width\n",
        "        y_center = (ymin + ymax) / 2 / height\n",
        "        bbox_width = (xmax - xmin) / width\n",
        "        bbox_height = (ymax - ymin) / height\n",
        "\n",
        "        # Class ID\n",
        "        if category not in DOTA_CLASSES:\n",
        "          DOTA_CLASSES[category] = len(DOTA_CLASSES)\n",
        "        class_id_index = DOTA_CLASSES[category]\n",
        "\n",
        "        yolo_lines.append(f\"{class_id_index} {x_center:.6f} {y_center:.6f} {bbox_width:.6f} {bbox_height:.6f}\")\n",
        "\n",
        "      except Exception as e:\n",
        "        print(f\"Warning: Could not parse object in {label_file.as_posix()}: {e}\")\n",
        "        continue\n",
        "\n",
        "    # Write YOLO format file\n",
        "    with open(label_file, 'w') as f:\n",
        "      f.write('\\n'.join(yolo_lines))\n",
        "\n",
        "    return len(yolo_lines)\n",
        "\n",
        "  except Exception as e:\n",
        "    print(f\"Error processing {label_file.as_posix()}: {e}\")\n",
        "    return 0\n",
        "\n",
        "\n",
        "print(\"Converting training annotations...\")\n",
        "total_objects = 0\n",
        "for label_file in YOLO_DOTA_TRAIN_LABELS.iterdir():\n",
        "  objects_count = convert_dota_annotation_to_yolo_format(label_file)\n",
        "  total_objects += objects_count\n",
        "print(f\"...Conversion complete: {total_objects} total objects\")\n",
        "\n",
        "print(\"Converting validation annotations...\")\n",
        "total_objects = 0\n",
        "for label_file in YOLO_DOTA_VAL_LABELS.iterdir():\n",
        "  objects_count = convert_dota_annotation_to_yolo_format(label_file)\n",
        "  total_objects += objects_count\n",
        "print(f\"...Conversion complete: {total_objects} total objects\")\n",
        "\n",
        "print(\"Converting testing annotations...\")\n",
        "total_objects = 0\n",
        "for label_file in YOLO_DOTA_TEST_LABELS.iterdir():\n",
        "  objects_count = convert_dota_annotation_to_yolo_format(label_file)\n",
        "  total_objects += objects_count\n",
        "print(f\"...Conversion complete: {total_objects} total objects\")"
      ],
      "metadata": {
        "id": "qwqCEA-9TMEe"
      },
      "execution_count": null,
      "outputs": []
    },
    {
      "cell_type": "markdown",
      "metadata": {
        "id": "g09JsJPo7J7M"
      },
      "source": [
        "Write the YOLO configuration file for HRSC dataset"
      ]
    },
    {
      "cell_type": "code",
      "execution_count": null,
      "metadata": {
        "id": "T-2xb4aP7iWZ"
      },
      "outputs": [],
      "source": [
        "import os\n",
        "\n",
        "# Output directory\n",
        "YOLO_HRSC_OUTPUT_DIR = Path('yolo/HRSC')\n",
        "YOLO_HRSC_OUTPUT_DIR.mkdir(parents=True, exist_ok=True)\n",
        "\n",
        "HRSC_CLASS_NAMES = [id for id, _ in sorted(HRSC_CLASSES.items(), key=lambda item: item[1])]  # Sort id by index\n",
        "\n",
        "yaml_content = f\"\"\"\n",
        "path: {YOLO_HRSC_OUTPUT_DIR}\n",
        "train: {YOLO_HRSC_TRAIN_IMAGES.relative_to(YOLO_HRSC_OUTPUT_DIR)}\n",
        "val: {YOLO_HRSC_VAL_IMAGES.relative_to(YOLO_HRSC_OUTPUT_DIR)}\n",
        "test: {YOLO_HRSC_TEST_IMAGES.relative_to(YOLO_HRSC_OUTPUT_DIR)}\n",
        "nc: {len(HRSC_CLASS_NAMES)}\n",
        "names: {HRSC_CLASS_NAMES}\n",
        "\"\"\"\n",
        "\n",
        "# Write the YAML file\n",
        "YOLO_HRSC_YAML_PATH = YOLO_HRSC_OUTPUT_DIR / 'HRSC.yaml'\n",
        "with open(YOLO_HRSC_YAML_PATH, 'w') as f:\n",
        "    f.write(yaml_content)\n",
        "\n",
        "print(\"YAML configuration created:\", YOLO_HRSC_YAML_PATH.as_posix())\n",
        "print(\"YAML file content:\\n\")\n",
        "print(YOLO_HRSC_YAML_PATH.read_text())"
      ]
    },
    {
      "cell_type": "markdown",
      "source": [
        "Write the YOLO configuration file for DOTA dataset"
      ],
      "metadata": {
        "id": "a45BdSG6WDxB"
      }
    },
    {
      "cell_type": "code",
      "source": [
        "import os\n",
        "\n",
        "# Output directory\n",
        "YOLO_DOTA_OUTPUT_DIR = Path('yolo/DOTA')\n",
        "YOLO_DOTA_OUTPUT_DIR.mkdir(parents=True, exist_ok=True)\n",
        "\n",
        "DOTA_CLASS_NAMES = [id for id, _ in sorted(DOTA_CLASSES.items(), key=lambda item: item[1])]  # Sort id by index\n",
        "\n",
        "yaml_content = f\"\"\"\n",
        "path: {YOLO_DOTA_OUTPUT_DIR}\n",
        "train: {YOLO_DOTA_TRAIN_IMAGES.relative_to(YOLO_DOTA_OUTPUT_DIR)}\n",
        "val: {YOLO_DOTA_VAL_IMAGES.relative_to(YOLO_DOTA_OUTPUT_DIR)}\n",
        "test: {YOLO_DOTA_TEST_IMAGES.relative_to(YOLO_DOTA_OUTPUT_DIR)}\n",
        "nc: {len(DOTA_CLASS_NAMES)}\n",
        "names: {DOTA_CLASS_NAMES}\n",
        "\"\"\"\n",
        "\n",
        "# Write the YAML file\n",
        "YOLO_DOTA_YAML_PATH = YOLO_DOTA_OUTPUT_DIR / 'DOTA.yaml'\n",
        "with open(YOLO_DOTA_YAML_PATH, 'w') as f:\n",
        "    f.write(yaml_content)\n",
        "\n",
        "print(\"YAML configuration created:\", YOLO_DOTA_YAML_PATH.as_posix())\n",
        "print(\"YAML file content:\\n\")\n",
        "print(YOLO_DOTA_YAML_PATH.read_text())"
      ],
      "metadata": {
        "id": "iCkPMF4dWJNe"
      },
      "execution_count": null,
      "outputs": []
    },
    {
      "cell_type": "markdown",
      "source": [
        "Start baseline YOLOv5 training (HRSC)"
      ],
      "metadata": {
        "id": "LjpZ_1uXKzwn"
      }
    },
    {
      "cell_type": "code",
      "source": [
        "from ultralytics import YOLO\n",
        "\n",
        "# Load pretrained model\n",
        "model = YOLO('yolov5s.pt')\n",
        "print(\"✅ YOLOv5 model loaded\")\n",
        "\n",
        "# Start training\n",
        "results = model.train(\n",
        "  data=YOLO_HRSC_YAML_PATH.as_posix(),\n",
        "  epochs=50,\n",
        "  imgsz=640,\n",
        "  batch=16,\n",
        "  patience=10,\n",
        "  save=True,\n",
        "  verbose=True,\n",
        "  project='baseline_results',\n",
        "  name='yolov5s_hrsc2016_baseline'\n",
        ")\n",
        "\n",
        "print(\"✅ Baseline training started successfully!\")"
      ],
      "metadata": {
        "id": "dXnmiRaMLBBu"
      },
      "execution_count": null,
      "outputs": []
    },
    {
      "cell_type": "markdown",
      "source": [
        "Start baseline YOLOv5 training (DOTA)"
      ],
      "metadata": {
        "id": "29TfI-OSMlhC"
      }
    },
    {
      "cell_type": "code",
      "source": [
        "from ultralytics import YOLO\n",
        "\n",
        "# Load pretrained model\n",
        "model = YOLO('yolov5s.pt')\n",
        "print(\"✅ YOLOv5 model loaded\")\n",
        "\n",
        "# Start training\n",
        "results = model.train(\n",
        "  data=YOLO_DOTA_YAML_PATH.as_posix(),\n",
        "  epochs=50,\n",
        "  imgsz=640,\n",
        "  batch=16,\n",
        "  patience=10,\n",
        "  save=True,\n",
        "  verbose=True,\n",
        "  project='baseline_results',\n",
        "  name='yolov5s_dota_baseline'\n",
        ")\n",
        "\n",
        "print(\"✅ Baseline training started successfully!\")"
      ],
      "metadata": {
        "id": "PgliiRQsWgBm"
      },
      "execution_count": null,
      "outputs": []
    }
  ],
  "metadata": {
    "accelerator": "TPU",
    "colab": {
      "gpuType": "V5E1",
      "provenance": []
    },
    "kernelspec": {
      "display_name": "Python 3",
      "name": "python3"
    },
    "language_info": {
      "name": "python"
    }
  },
  "nbformat": 4,
  "nbformat_minor": 0
}