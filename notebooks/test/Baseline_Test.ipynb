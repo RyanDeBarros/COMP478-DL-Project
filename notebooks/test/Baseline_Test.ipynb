{
  "cells": [
    {
      "cell_type": "markdown",
      "metadata": {
        "id": "cOLUxJhQiE9J"
      },
      "source": [
        "Install all required packages and libraries"
      ]
    },
    {
      "cell_type": "code",
      "execution_count": 1,
      "metadata": {
        "colab": {
          "base_uri": "https://localhost:8080/"
        },
        "collapsed": true,
        "id": "sEOFZ7abh-Ct",
        "outputId": "6e2814d3-d0e8-4ee8-b612-697075d35d76"
      },
      "outputs": [
        {
          "output_type": "stream",
          "name": "stdout",
          "text": [
            "Looking in indexes: https://download.pytorch.org/whl/cu118\n",
            "\u001b[31mERROR: Could not find a version that satisfies the requirement ultralytics (from versions: none)\u001b[0m\u001b[31m\n",
            "\u001b[0m\u001b[31mERROR: No matching distribution found for ultralytics\u001b[0m\u001b[31m\n",
            "\u001b[0mRequirement already satisfied: opencv-python in /usr/local/lib/python3.12/dist-packages (4.12.0.88)\n",
            "Requirement already satisfied: matplotlib in /usr/local/lib/python3.12/dist-packages (3.10.0)\n",
            "Requirement already satisfied: seaborn in /usr/local/lib/python3.12/dist-packages (0.13.2)\n",
            "Requirement already satisfied: pandas in /usr/local/lib/python3.12/dist-packages (2.2.2)\n",
            "Requirement already satisfied: numpy in /usr/local/lib/python3.12/dist-packages (2.0.2)\n",
            "Requirement already satisfied: Pillow in /usr/local/lib/python3.12/dist-packages (11.3.0)\n",
            "Requirement already satisfied: contourpy>=1.0.1 in /usr/local/lib/python3.12/dist-packages (from matplotlib) (1.3.3)\n",
            "Requirement already satisfied: cycler>=0.10 in /usr/local/lib/python3.12/dist-packages (from matplotlib) (0.12.1)\n",
            "Requirement already satisfied: fonttools>=4.22.0 in /usr/local/lib/python3.12/dist-packages (from matplotlib) (4.60.1)\n",
            "Requirement already satisfied: kiwisolver>=1.3.1 in /usr/local/lib/python3.12/dist-packages (from matplotlib) (1.4.9)\n",
            "Requirement already satisfied: packaging>=20.0 in /usr/local/lib/python3.12/dist-packages (from matplotlib) (25.0)\n",
            "Requirement already satisfied: pyparsing>=2.3.1 in /usr/local/lib/python3.12/dist-packages (from matplotlib) (3.2.5)\n",
            "Requirement already satisfied: python-dateutil>=2.7 in /usr/local/lib/python3.12/dist-packages (from matplotlib) (2.9.0.post0)\n",
            "Requirement already satisfied: pytz>=2020.1 in /usr/local/lib/python3.12/dist-packages (from pandas) (2025.2)\n",
            "Requirement already satisfied: tzdata>=2022.7 in /usr/local/lib/python3.12/dist-packages (from pandas) (2025.2)\n",
            "Requirement already satisfied: six>=1.5 in /usr/local/lib/python3.12/dist-packages (from python-dateutil>=2.7->matplotlib) (1.17.0)\n",
            "Collecting roboflow\n",
            "  Downloading roboflow-1.2.11-py3-none-any.whl.metadata (9.7 kB)\n",
            "Collecting supervision\n",
            "  Downloading supervision-0.26.1-py3-none-any.whl.metadata (13 kB)\n",
            "Requirement already satisfied: certifi in /usr/local/lib/python3.12/dist-packages (from roboflow) (2025.10.5)\n",
            "Collecting idna==3.7 (from roboflow)\n",
            "  Downloading idna-3.7-py3-none-any.whl.metadata (9.9 kB)\n",
            "Requirement already satisfied: cycler in /usr/local/lib/python3.12/dist-packages (from roboflow) (0.12.1)\n",
            "Requirement already satisfied: kiwisolver>=1.3.1 in /usr/local/lib/python3.12/dist-packages (from roboflow) (1.4.9)\n",
            "Requirement already satisfied: matplotlib in /usr/local/lib/python3.12/dist-packages (from roboflow) (3.10.0)\n",
            "Requirement already satisfied: numpy>=1.18.5 in /usr/local/lib/python3.12/dist-packages (from roboflow) (2.0.2)\n",
            "Collecting opencv-python-headless==4.10.0.84 (from roboflow)\n",
            "  Downloading opencv_python_headless-4.10.0.84-cp37-abi3-manylinux_2_17_x86_64.manylinux2014_x86_64.whl.metadata (20 kB)\n",
            "Requirement already satisfied: Pillow>=7.1.2 in /usr/local/lib/python3.12/dist-packages (from roboflow) (11.3.0)\n",
            "Collecting pi-heif<2 (from roboflow)\n",
            "  Downloading pi_heif-1.1.1-cp312-cp312-manylinux_2_27_x86_64.manylinux_2_28_x86_64.whl.metadata (6.5 kB)\n",
            "Collecting pillow-avif-plugin<2 (from roboflow)\n",
            "  Downloading pillow_avif_plugin-1.5.2-cp312-cp312-manylinux_2_28_x86_64.whl.metadata (2.1 kB)\n",
            "Requirement already satisfied: python-dateutil in /usr/local/lib/python3.12/dist-packages (from roboflow) (2.9.0.post0)\n",
            "Requirement already satisfied: python-dotenv in /usr/local/lib/python3.12/dist-packages (from roboflow) (1.1.1)\n",
            "Requirement already satisfied: requests in /usr/local/lib/python3.12/dist-packages (from roboflow) (2.32.4)\n",
            "Requirement already satisfied: six in /usr/local/lib/python3.12/dist-packages (from roboflow) (1.17.0)\n",
            "Requirement already satisfied: urllib3>=1.26.6 in /usr/local/lib/python3.12/dist-packages (from roboflow) (2.5.0)\n",
            "Requirement already satisfied: tqdm>=4.41.0 in /usr/local/lib/python3.12/dist-packages (from roboflow) (4.67.1)\n",
            "Requirement already satisfied: PyYAML>=5.3.1 in /usr/local/lib/python3.12/dist-packages (from roboflow) (6.0.3)\n",
            "Requirement already satisfied: requests-toolbelt in /usr/local/lib/python3.12/dist-packages (from roboflow) (1.0.0)\n",
            "Collecting filetype (from roboflow)\n",
            "  Downloading filetype-1.2.0-py2.py3-none-any.whl.metadata (6.5 kB)\n",
            "Requirement already satisfied: scipy>=1.10.0 in /usr/local/lib/python3.12/dist-packages (from supervision) (1.16.2)\n",
            "Requirement already satisfied: defusedxml>=0.7.1 in /usr/local/lib/python3.12/dist-packages (from supervision) (0.7.1)\n",
            "Requirement already satisfied: opencv-python>=4.5.5.64 in /usr/local/lib/python3.12/dist-packages (from supervision) (4.12.0.88)\n",
            "Requirement already satisfied: contourpy>=1.0.1 in /usr/local/lib/python3.12/dist-packages (from matplotlib->roboflow) (1.3.3)\n",
            "Requirement already satisfied: fonttools>=4.22.0 in /usr/local/lib/python3.12/dist-packages (from matplotlib->roboflow) (4.60.1)\n",
            "Requirement already satisfied: packaging>=20.0 in /usr/local/lib/python3.12/dist-packages (from matplotlib->roboflow) (25.0)\n",
            "Requirement already satisfied: pyparsing>=2.3.1 in /usr/local/lib/python3.12/dist-packages (from matplotlib->roboflow) (3.2.5)\n",
            "Requirement already satisfied: charset_normalizer<4,>=2 in /usr/local/lib/python3.12/dist-packages (from requests->roboflow) (3.4.3)\n",
            "Downloading roboflow-1.2.11-py3-none-any.whl (89 kB)\n",
            "\u001b[2K   \u001b[90m━━━━━━━━━━━━━━━━━━━━━━━━━━━━━━━━━━━━━━━━\u001b[0m \u001b[32m89.9/89.9 kB\u001b[0m \u001b[31m4.2 MB/s\u001b[0m eta \u001b[36m0:00:00\u001b[0m\n",
            "\u001b[?25hDownloading idna-3.7-py3-none-any.whl (66 kB)\n",
            "\u001b[2K   \u001b[90m━━━━━━━━━━━━━━━━━━━━━━━━━━━━━━━━━━━━━━━━\u001b[0m \u001b[32m66.8/66.8 kB\u001b[0m \u001b[31m4.1 MB/s\u001b[0m eta \u001b[36m0:00:00\u001b[0m\n",
            "\u001b[?25hDownloading opencv_python_headless-4.10.0.84-cp37-abi3-manylinux_2_17_x86_64.manylinux2014_x86_64.whl (49.9 MB)\n",
            "\u001b[2K   \u001b[90m━━━━━━━━━━━━━━━━━━━━━━━━━━━━━━━━━━━━━━━━\u001b[0m \u001b[32m49.9/49.9 MB\u001b[0m \u001b[31m18.6 MB/s\u001b[0m eta \u001b[36m0:00:00\u001b[0m\n",
            "\u001b[?25hDownloading supervision-0.26.1-py3-none-any.whl (207 kB)\n",
            "\u001b[2K   \u001b[90m━━━━━━━━━━━━━━━━━━━━━━━━━━━━━━━━━━━━━━━━\u001b[0m \u001b[32m207.2/207.2 kB\u001b[0m \u001b[31m9.9 MB/s\u001b[0m eta \u001b[36m0:00:00\u001b[0m\n",
            "\u001b[?25hDownloading pi_heif-1.1.1-cp312-cp312-manylinux_2_27_x86_64.manylinux_2_28_x86_64.whl (1.4 MB)\n",
            "\u001b[2K   \u001b[90m━━━━━━━━━━━━━━━━━━━━━━━━━━━━━━━━━━━━━━━━\u001b[0m \u001b[32m1.4/1.4 MB\u001b[0m \u001b[31m36.3 MB/s\u001b[0m eta \u001b[36m0:00:00\u001b[0m\n",
            "\u001b[?25hDownloading pillow_avif_plugin-1.5.2-cp312-cp312-manylinux_2_28_x86_64.whl (4.2 MB)\n",
            "\u001b[2K   \u001b[90m━━━━━━━━━━━━━━━━━━━━━━━━━━━━━━━━━━━━━━━━\u001b[0m \u001b[32m4.2/4.2 MB\u001b[0m \u001b[31m53.6 MB/s\u001b[0m eta \u001b[36m0:00:00\u001b[0m\n",
            "\u001b[?25hDownloading filetype-1.2.0-py2.py3-none-any.whl (19 kB)\n",
            "Installing collected packages: pillow-avif-plugin, filetype, pi-heif, opencv-python-headless, idna, supervision, roboflow\n",
            "  Attempting uninstall: opencv-python-headless\n",
            "    Found existing installation: opencv-python-headless 4.12.0.88\n",
            "    Uninstalling opencv-python-headless-4.12.0.88:\n",
            "      Successfully uninstalled opencv-python-headless-4.12.0.88\n",
            "  Attempting uninstall: idna\n",
            "    Found existing installation: idna 3.10\n",
            "    Uninstalling idna-3.10:\n",
            "      Successfully uninstalled idna-3.10\n",
            "Successfully installed filetype-1.2.0 idna-3.7 opencv-python-headless-4.10.0.84 pi-heif-1.1.1 pillow-avif-plugin-1.5.2 roboflow-1.2.11 supervision-0.26.1\n",
            "Collecting colorama\n",
            "  Downloading colorama-0.4.6-py2.py3-none-any.whl.metadata (17 kB)\n",
            "Downloading colorama-0.4.6-py2.py3-none-any.whl (25 kB)\n",
            "Installing collected packages: colorama\n",
            "Successfully installed colorama-0.4.6\n"
          ]
        }
      ],
      "source": [
        "!pip install ultralytics torch torchvision torchaudio --index-url https://download.pytorch.org/whl/cu118\n",
        "!pip install opencv-python matplotlib seaborn pandas numpy Pillow\n",
        "!pip install roboflow supervision\n",
        "!pip install colorama"
      ]
    },
    {
      "cell_type": "markdown",
      "metadata": {
        "id": "VQ_zhp-6iYFI"
      },
      "source": [
        "Get YOLO detector"
      ]
    },
    {
      "cell_type": "code",
      "execution_count": 2,
      "metadata": {
        "colab": {
          "base_uri": "https://localhost:8080/"
        },
        "collapsed": true,
        "id": "6BMS_D1NiVyg",
        "outputId": "903dc23f-cbcb-47eb-b156-c2c421afd941"
      },
      "outputs": [
        {
          "output_type": "stream",
          "name": "stdout",
          "text": [
            "Cloning into 'yolov5'...\n",
            "remote: Enumerating objects: 17608, done.\u001b[K\n",
            "remote: Counting objects: 100% (15/15), done.\u001b[K\n",
            "remote: Compressing objects: 100% (13/13), done.\u001b[K\n",
            "remote: Total 17608 (delta 7), reused 2 (delta 2), pack-reused 17593 (from 2)\u001b[K\n",
            "Receiving objects: 100% (17608/17608), 16.87 MiB | 16.28 MiB/s, done.\n",
            "Resolving deltas: 100% (11986/11986), done.\n",
            "/content/yolov5\n",
            "Requirement already satisfied: gitpython>=3.1.30 in /usr/local/lib/python3.12/dist-packages (from -r requirements.txt (line 5)) (3.1.45)\n",
            "Requirement already satisfied: matplotlib>=3.3 in /usr/local/lib/python3.12/dist-packages (from -r requirements.txt (line 6)) (3.10.0)\n",
            "Requirement already satisfied: numpy>=1.23.5 in /usr/local/lib/python3.12/dist-packages (from -r requirements.txt (line 7)) (2.0.2)\n",
            "Requirement already satisfied: opencv-python>=4.1.1 in /usr/local/lib/python3.12/dist-packages (from -r requirements.txt (line 8)) (4.12.0.88)\n",
            "Requirement already satisfied: pillow>=10.3.0 in /usr/local/lib/python3.12/dist-packages (from -r requirements.txt (line 9)) (11.3.0)\n",
            "Requirement already satisfied: psutil in /usr/local/lib/python3.12/dist-packages (from -r requirements.txt (line 10)) (5.9.5)\n",
            "Requirement already satisfied: PyYAML>=5.3.1 in /usr/local/lib/python3.12/dist-packages (from -r requirements.txt (line 11)) (6.0.3)\n",
            "Requirement already satisfied: requests>=2.32.2 in /usr/local/lib/python3.12/dist-packages (from -r requirements.txt (line 12)) (2.32.4)\n",
            "Requirement already satisfied: scipy>=1.4.1 in /usr/local/lib/python3.12/dist-packages (from -r requirements.txt (line 13)) (1.16.2)\n",
            "Collecting thop>=0.1.1 (from -r requirements.txt (line 14))\n",
            "  Downloading thop-0.1.1.post2209072238-py3-none-any.whl.metadata (2.7 kB)\n",
            "Requirement already satisfied: torch>=1.8.0 in /usr/local/lib/python3.12/dist-packages (from -r requirements.txt (line 15)) (2.8.0+cu126)\n",
            "Requirement already satisfied: torchvision>=0.9.0 in /usr/local/lib/python3.12/dist-packages (from -r requirements.txt (line 16)) (0.23.0+cu126)\n",
            "Requirement already satisfied: tqdm>=4.66.3 in /usr/local/lib/python3.12/dist-packages (from -r requirements.txt (line 17)) (4.67.1)\n",
            "Collecting ultralytics>=8.2.64 (from -r requirements.txt (line 18))\n",
            "  Downloading ultralytics-8.3.213-py3-none-any.whl.metadata (37 kB)\n",
            "Requirement already satisfied: pandas>=1.1.4 in /usr/local/lib/python3.12/dist-packages (from -r requirements.txt (line 27)) (2.2.2)\n",
            "Requirement already satisfied: seaborn>=0.11.0 in /usr/local/lib/python3.12/dist-packages (from -r requirements.txt (line 28)) (0.13.2)\n",
            "Requirement already satisfied: packaging in /usr/local/lib/python3.12/dist-packages (from -r requirements.txt (line 42)) (25.0)\n",
            "Requirement already satisfied: setuptools>=70.0.0 in /usr/local/lib/python3.12/dist-packages (from -r requirements.txt (line 43)) (75.2.0)\n",
            "Requirement already satisfied: urllib3>=2.5.0 in /usr/local/lib/python3.12/dist-packages (from -r requirements.txt (line 51)) (2.5.0)\n",
            "Requirement already satisfied: gitdb<5,>=4.0.1 in /usr/local/lib/python3.12/dist-packages (from gitpython>=3.1.30->-r requirements.txt (line 5)) (4.0.12)\n",
            "Requirement already satisfied: contourpy>=1.0.1 in /usr/local/lib/python3.12/dist-packages (from matplotlib>=3.3->-r requirements.txt (line 6)) (1.3.3)\n",
            "Requirement already satisfied: cycler>=0.10 in /usr/local/lib/python3.12/dist-packages (from matplotlib>=3.3->-r requirements.txt (line 6)) (0.12.1)\n",
            "Requirement already satisfied: fonttools>=4.22.0 in /usr/local/lib/python3.12/dist-packages (from matplotlib>=3.3->-r requirements.txt (line 6)) (4.60.1)\n",
            "Requirement already satisfied: kiwisolver>=1.3.1 in /usr/local/lib/python3.12/dist-packages (from matplotlib>=3.3->-r requirements.txt (line 6)) (1.4.9)\n",
            "Requirement already satisfied: pyparsing>=2.3.1 in /usr/local/lib/python3.12/dist-packages (from matplotlib>=3.3->-r requirements.txt (line 6)) (3.2.5)\n",
            "Requirement already satisfied: python-dateutil>=2.7 in /usr/local/lib/python3.12/dist-packages (from matplotlib>=3.3->-r requirements.txt (line 6)) (2.9.0.post0)\n",
            "Requirement already satisfied: charset_normalizer<4,>=2 in /usr/local/lib/python3.12/dist-packages (from requests>=2.32.2->-r requirements.txt (line 12)) (3.4.3)\n",
            "Requirement already satisfied: idna<4,>=2.5 in /usr/local/lib/python3.12/dist-packages (from requests>=2.32.2->-r requirements.txt (line 12)) (3.7)\n",
            "Requirement already satisfied: certifi>=2017.4.17 in /usr/local/lib/python3.12/dist-packages (from requests>=2.32.2->-r requirements.txt (line 12)) (2025.10.5)\n",
            "Requirement already satisfied: filelock in /usr/local/lib/python3.12/dist-packages (from torch>=1.8.0->-r requirements.txt (line 15)) (3.20.0)\n",
            "Requirement already satisfied: typing-extensions>=4.10.0 in /usr/local/lib/python3.12/dist-packages (from torch>=1.8.0->-r requirements.txt (line 15)) (4.15.0)\n",
            "Requirement already satisfied: sympy>=1.13.3 in /usr/local/lib/python3.12/dist-packages (from torch>=1.8.0->-r requirements.txt (line 15)) (1.13.3)\n",
            "Requirement already satisfied: networkx in /usr/local/lib/python3.12/dist-packages (from torch>=1.8.0->-r requirements.txt (line 15)) (3.5)\n",
            "Requirement already satisfied: jinja2 in /usr/local/lib/python3.12/dist-packages (from torch>=1.8.0->-r requirements.txt (line 15)) (3.1.6)\n",
            "Requirement already satisfied: fsspec in /usr/local/lib/python3.12/dist-packages (from torch>=1.8.0->-r requirements.txt (line 15)) (2025.3.0)\n",
            "Requirement already satisfied: nvidia-cuda-nvrtc-cu12==12.6.77 in /usr/local/lib/python3.12/dist-packages (from torch>=1.8.0->-r requirements.txt (line 15)) (12.6.77)\n",
            "Requirement already satisfied: nvidia-cuda-runtime-cu12==12.6.77 in /usr/local/lib/python3.12/dist-packages (from torch>=1.8.0->-r requirements.txt (line 15)) (12.6.77)\n",
            "Requirement already satisfied: nvidia-cuda-cupti-cu12==12.6.80 in /usr/local/lib/python3.12/dist-packages (from torch>=1.8.0->-r requirements.txt (line 15)) (12.6.80)\n",
            "Requirement already satisfied: nvidia-cudnn-cu12==9.10.2.21 in /usr/local/lib/python3.12/dist-packages (from torch>=1.8.0->-r requirements.txt (line 15)) (9.10.2.21)\n",
            "Requirement already satisfied: nvidia-cublas-cu12==12.6.4.1 in /usr/local/lib/python3.12/dist-packages (from torch>=1.8.0->-r requirements.txt (line 15)) (12.6.4.1)\n",
            "Requirement already satisfied: nvidia-cufft-cu12==11.3.0.4 in /usr/local/lib/python3.12/dist-packages (from torch>=1.8.0->-r requirements.txt (line 15)) (11.3.0.4)\n",
            "Requirement already satisfied: nvidia-curand-cu12==10.3.7.77 in /usr/local/lib/python3.12/dist-packages (from torch>=1.8.0->-r requirements.txt (line 15)) (10.3.7.77)\n",
            "Requirement already satisfied: nvidia-cusolver-cu12==11.7.1.2 in /usr/local/lib/python3.12/dist-packages (from torch>=1.8.0->-r requirements.txt (line 15)) (11.7.1.2)\n",
            "Requirement already satisfied: nvidia-cusparse-cu12==12.5.4.2 in /usr/local/lib/python3.12/dist-packages (from torch>=1.8.0->-r requirements.txt (line 15)) (12.5.4.2)\n",
            "Requirement already satisfied: nvidia-cusparselt-cu12==0.7.1 in /usr/local/lib/python3.12/dist-packages (from torch>=1.8.0->-r requirements.txt (line 15)) (0.7.1)\n",
            "Requirement already satisfied: nvidia-nccl-cu12==2.27.3 in /usr/local/lib/python3.12/dist-packages (from torch>=1.8.0->-r requirements.txt (line 15)) (2.27.3)\n",
            "Requirement already satisfied: nvidia-nvtx-cu12==12.6.77 in /usr/local/lib/python3.12/dist-packages (from torch>=1.8.0->-r requirements.txt (line 15)) (12.6.77)\n",
            "Requirement already satisfied: nvidia-nvjitlink-cu12==12.6.85 in /usr/local/lib/python3.12/dist-packages (from torch>=1.8.0->-r requirements.txt (line 15)) (12.6.85)\n",
            "Requirement already satisfied: nvidia-cufile-cu12==1.11.1.6 in /usr/local/lib/python3.12/dist-packages (from torch>=1.8.0->-r requirements.txt (line 15)) (1.11.1.6)\n",
            "Requirement already satisfied: triton==3.4.0 in /usr/local/lib/python3.12/dist-packages (from torch>=1.8.0->-r requirements.txt (line 15)) (3.4.0)\n",
            "Requirement already satisfied: polars in /usr/local/lib/python3.12/dist-packages (from ultralytics>=8.2.64->-r requirements.txt (line 18)) (1.25.2)\n",
            "Collecting ultralytics-thop>=2.0.0 (from ultralytics>=8.2.64->-r requirements.txt (line 18))\n",
            "  Downloading ultralytics_thop-2.0.17-py3-none-any.whl.metadata (14 kB)\n",
            "Requirement already satisfied: pytz>=2020.1 in /usr/local/lib/python3.12/dist-packages (from pandas>=1.1.4->-r requirements.txt (line 27)) (2025.2)\n",
            "Requirement already satisfied: tzdata>=2022.7 in /usr/local/lib/python3.12/dist-packages (from pandas>=1.1.4->-r requirements.txt (line 27)) (2025.2)\n",
            "Requirement already satisfied: smmap<6,>=3.0.1 in /usr/local/lib/python3.12/dist-packages (from gitdb<5,>=4.0.1->gitpython>=3.1.30->-r requirements.txt (line 5)) (5.0.2)\n",
            "Requirement already satisfied: six>=1.5 in /usr/local/lib/python3.12/dist-packages (from python-dateutil>=2.7->matplotlib>=3.3->-r requirements.txt (line 6)) (1.17.0)\n",
            "Requirement already satisfied: mpmath<1.4,>=1.1.0 in /usr/local/lib/python3.12/dist-packages (from sympy>=1.13.3->torch>=1.8.0->-r requirements.txt (line 15)) (1.3.0)\n",
            "Requirement already satisfied: MarkupSafe>=2.0 in /usr/local/lib/python3.12/dist-packages (from jinja2->torch>=1.8.0->-r requirements.txt (line 15)) (3.0.3)\n",
            "Downloading thop-0.1.1.post2209072238-py3-none-any.whl (15 kB)\n",
            "Downloading ultralytics-8.3.213-py3-none-any.whl (1.1 MB)\n",
            "\u001b[2K   \u001b[90m━━━━━━━━━━━━━━━━━━━━━━━━━━━━━━━━━━━━━━━━\u001b[0m \u001b[32m1.1/1.1 MB\u001b[0m \u001b[31m23.3 MB/s\u001b[0m eta \u001b[36m0:00:00\u001b[0m\n",
            "\u001b[?25hDownloading ultralytics_thop-2.0.17-py3-none-any.whl (28 kB)\n",
            "Installing collected packages: ultralytics-thop, thop, ultralytics\n",
            "Successfully installed thop-0.1.1.post2209072238 ultralytics-8.3.213 ultralytics-thop-2.0.17\n",
            "/content\n"
          ]
        }
      ],
      "source": [
        "!git clone https://github.com/ultralytics/yolov5\n",
        "%cd yolov5\n",
        "!pip install -r requirements.txt\n",
        "%cd .."
      ]
    },
    {
      "cell_type": "markdown",
      "metadata": {
        "id": "46f8YL7ggsK_"
      },
      "source": [
        "Load datasets"
      ]
    },
    {
      "cell_type": "code",
      "execution_count": 3,
      "metadata": {
        "colab": {
          "base_uri": "https://localhost:8080/"
        },
        "id": "CB4UkOVjHTV0",
        "outputId": "406477ef-d32a-4fe3-c32a-d565779358dc"
      },
      "outputs": [
        {
          "output_type": "stream",
          "name": "stdout",
          "text": [
            "Mounted at /content/drive\n",
            "HRSC important subfolders: ['train/images', 'train/annotations', 'val/images', 'val/annotations', 'test/images', 'test/annotations']\n",
            "DOTA important subfolders: ['train/images', 'train/hbb', 'val/images', 'val/hbb', 'test/images']\n"
          ]
        }
      ],
      "source": [
        "import os\n",
        "\n",
        "from pathlib import Path\n",
        "\n",
        "from google.colab import drive\n",
        "\n",
        "drive.mount('/content/drive')\n",
        "\n",
        "SHARED_PATH = Path(\"drive/MyDrive/Colab Notebooks/Shared\")\n",
        "HRSC_PATH = SHARED_PATH / \"HRSC2016_Final_Splits\"\n",
        "DOTA_PATH = SHARED_PATH / \"DOTA_Final_Splits\"\n",
        "\n",
        "print(\"HRSC important subfolders:\", [f\"{subfolder.name}/{path.name}\" for subfolder in HRSC_PATH.iterdir() for path in subfolder.iterdir()])\n",
        "print(\"DOTA important subfolders:\", [f\"{subfolder.name}/{path.name}\" for subfolder in DOTA_PATH.iterdir() for path in subfolder.iterdir()])\n",
        "\n",
        "HRSC_TRAIN_IMAGES = HRSC_PATH/ \"train/images\"\n",
        "HRSC_TRAIN_ANNOTATIONS = HRSC_PATH / \"train/annotations\"\n",
        "HRSC_VAL_IMAGES = HRSC_PATH / \"val/images\"\n",
        "HRSC_VAL_ANNOTATIONS = HRSC_PATH / \"val/annotations\"\n",
        "HRSC_TEST_IMAGES = HRSC_PATH / \"test/images\"\n",
        "HRSC_TEST_ANNOTATIONS = HRSC_PATH / \"test/annotations\"\n",
        "\n",
        "DOTA_TRAIN_IMAGES = DOTA_PATH / \"train/images\"\n",
        "DOTA_TRAIN_ANNOTATIONS = DOTA_PATH / \"train/hbb\"\n",
        "DOTA_VAL_IMAGES = DOTA_PATH / \"val/images\"\n",
        "DOTA_VAL_ANNOTATIONS = DOTA_PATH / \"val/hbb\"\n",
        "DOTA_TEST_IMAGES = DOTA_PATH / \"test/images\"\n",
        "DOTA_TEST_ANNOTATIONS = DOTA_PATH / \"test/hbb\""
      ]
    },
    {
      "cell_type": "markdown",
      "metadata": {
        "id": "GYUVtckyjnmu"
      },
      "source": [
        "Explore datasets"
      ]
    },
    {
      "cell_type": "code",
      "execution_count": 4,
      "metadata": {
        "colab": {
          "base_uri": "https://localhost:8080/"
        },
        "collapsed": true,
        "id": "-zit7gUWjsCZ",
        "outputId": "449e62b1-ce31-4f5f-9d40-90204d7123d6"
      },
      "outputs": [
        {
          "output_type": "stream",
          "name": "stdout",
          "text": [
            "Exploring \u001b[32mHRSC\u001b[0m \u001b[35mtrain\u001b[0m folder...\n",
            "Number of BMP files: 436\n",
            "BMP sample files: ['100000001.bmp', '100000002.bmp', '100000004.bmp']\n",
            "Number of XML files: 436\n",
            "XML sample files: ['100000001.xml', '100000002.xml', '100000004.xml']\n",
            "\n",
            "Exploring \u001b[32mHRSC\u001b[0m \u001b[35mval\u001b[0m folder...\n",
            "Number of BMP files: 181\n",
            "BMP sample files: ['100000006.bmp', '100000010.bmp', '100000622.bmp']\n",
            "Number of XML files: 181\n",
            "XML sample files: ['100000006.xml', '100000010.xml', '100000622.xml']\n",
            "\n",
            "Exploring \u001b[32mHRSC\u001b[0m \u001b[35mtest\u001b[0m folder...\n",
            "Number of BMP files: 453\n",
            "BMP sample files: ['100000003.bmp', '100000005.bmp', '100000623.bmp']\n",
            "Number of XML files: 453\n",
            "XML sample files: ['100000003.xml', '100000005.xml', '100000623.xml']\n",
            "\n",
            "Exploring \u001b[32mDOTA\u001b[0m \u001b[35mtrain\u001b[0m folder...\n",
            "Number of PNG files: 1411\n",
            "PNG sample files: ['P0805.png', 'P0806.png', 'P0809.png']\n",
            "Number of TXT files: 1411\n",
            "TXT sample files: ['P0805.txt', 'P0806.txt', 'P0809.txt']\n",
            "\n",
            "Exploring \u001b[32mDOTA\u001b[0m \u001b[35mval\u001b[0m folder...\n",
            "Number of PNG files: 458\n",
            "PNG sample files: ['P0003.png', 'P0004.png', 'P0007.png']\n",
            "Number of TXT files: 458\n",
            "TXT sample files: ['P0003.txt', 'P0004.txt', 'P0007.txt']\n",
            "\n",
            "Exploring \u001b[32mDOTA\u001b[0m \u001b[35mtest\u001b[0m folder...\n",
            "Number of PNG files: 937\n",
            "PNG sample files: ['P0006.png', 'P0009.png', 'P0014.png']\n",
            "Number of TXT files: 0\n",
            "TXT sample files: []\n"
          ]
        }
      ],
      "source": [
        "from colorama import Fore, Style\n",
        "\n",
        "def explore_header(dataset: str, subfolder: str):\n",
        "  print(\"Exploring\", Fore.GREEN + dataset + Style.RESET_ALL, Fore.MAGENTA + subfolder + Style.RESET_ALL, \"folder...\")\n",
        "\n",
        "def explore(images_folder: Path, ext: str):\n",
        "  files = list(images_folder.glob(f\"*.{ext}\"))\n",
        "  print(f\"Number of {ext.upper()} files:\", len(files))\n",
        "  print(f\"{ext.upper()} sample files:\", [path.name for path in files[:3]])\n",
        "\n",
        "explore_header(\"HRSC\", \"train\")\n",
        "explore(HRSC_TRAIN_IMAGES, \"bmp\")\n",
        "explore(HRSC_TRAIN_ANNOTATIONS, \"xml\")\n",
        "\n",
        "print()\n",
        "\n",
        "explore_header(\"HRSC\", \"val\")\n",
        "explore(HRSC_VAL_IMAGES, \"bmp\")\n",
        "explore(HRSC_VAL_ANNOTATIONS, \"xml\")\n",
        "\n",
        "print()\n",
        "\n",
        "explore_header(\"HRSC\", \"test\")\n",
        "explore(HRSC_TEST_IMAGES, \"bmp\")\n",
        "explore(HRSC_TEST_ANNOTATIONS, \"xml\")\n",
        "\n",
        "print()\n",
        "\n",
        "explore_header(\"DOTA\", \"train\")\n",
        "explore(DOTA_TRAIN_IMAGES, \"png\")\n",
        "explore(DOTA_TRAIN_ANNOTATIONS, \"txt\")\n",
        "\n",
        "print()\n",
        "\n",
        "explore_header(\"DOTA\", \"val\")\n",
        "explore(DOTA_VAL_IMAGES, \"png\")\n",
        "explore(DOTA_VAL_ANNOTATIONS, \"txt\")\n",
        "\n",
        "print()\n",
        "\n",
        "explore_header(\"DOTA\", \"test\")\n",
        "explore(DOTA_TEST_IMAGES, \"png\")\n",
        "explore(DOTA_TEST_ANNOTATIONS, \"txt\")\n"
      ]
    },
    {
      "cell_type": "markdown",
      "metadata": {
        "id": "vfqsJ_Rqtzu3"
      },
      "source": [
        "Match images with annotations"
      ]
    },
    {
      "cell_type": "code",
      "execution_count": 25,
      "metadata": {
        "colab": {
          "base_uri": "https://localhost:8080/"
        },
        "id": "I5KEnEnOuarP",
        "outputId": "b33b19f3-b5ab-493d-e731-1131f4f8ab22"
      },
      "outputs": [
        {
          "output_type": "stream",
          "name": "stdout",
          "text": [
            "HRSC train dataset sample: ['100000990', '100001511', '100000979', '100000782', '100000819']\n",
            "HRSC val dataset sample: ['100000699', '100000704', '100000636', '100001130', '100001612']\n",
            "HRSC test dataset sample: ['100001406', '100000830', '100000824', '100001013', '100001333']\n",
            "DOTA train dataset sample: ['P1343', 'P1879', 'P1186', 'P2638', 'P1571']\n",
            "DOTA val dataset sample: ['P2502', 'P0579', 'P1650', 'P0003', 'P2363']\n",
            "DOTA test dataset sample: []\n"
          ]
        }
      ],
      "source": [
        "class Dataset:\n",
        "  def __init__(self, images_folder: Path, image_ext: str, annotations_folder: Path, annotation_ext: str):\n",
        "    self.images_folder = images_folder\n",
        "    self.annotations_folder = annotations_folder\n",
        "    self.images = list(images_folder.glob(image_ext))\n",
        "    self.annotations = list(annotations_folder.glob(annotation_ext))\n",
        "\n",
        "    image_ids = set(path.stem for path in self.images)\n",
        "    annotation_ids = set(path.stem for path in self.annotations)\n",
        "    self.ids = set(image_ids) & set(annotation_ids)\n",
        "    self.images = [path for path in self.images if path.stem in self.ids]\n",
        "    self.annotations = [path for path in self.annotations if path.stem in self.ids]\n",
        "\n",
        "HRSC_TRAIN_DATASET = Dataset(HRSC_TRAIN_IMAGES, \"*.bmp\", HRSC_TRAIN_ANNOTATIONS, \"*.xml\")\n",
        "print(\"HRSC train dataset sample:\", list(HRSC_TRAIN_DATASET.ids)[:5])\n",
        "HRSC_VAL_DATASET = Dataset(HRSC_VAL_IMAGES, \"*.bmp\", HRSC_VAL_ANNOTATIONS, \"*.xml\")\n",
        "print(\"HRSC val dataset sample:\", list(HRSC_VAL_DATASET.ids)[:5])\n",
        "HRSC_TEST_DATASET = Dataset(HRSC_TEST_IMAGES, \"*.bmp\", HRSC_TEST_ANNOTATIONS, \"*.xml\")\n",
        "print(\"HRSC test dataset sample:\", list(HRSC_TEST_DATASET.ids)[:5])\n",
        "\n",
        "DOTA_TRAIN_DATASET = Dataset(DOTA_TRAIN_IMAGES, \"*.png\", DOTA_TRAIN_ANNOTATIONS, \"*.txt\")\n",
        "print(\"DOTA train dataset sample:\", list(DOTA_TRAIN_DATASET.ids)[:5])\n",
        "DOTA_VAL_DATASET = Dataset(DOTA_VAL_IMAGES, \"*.png\", DOTA_VAL_ANNOTATIONS, \"*.txt\")\n",
        "print(\"DOTA val dataset sample:\", list(DOTA_VAL_DATASET.ids)[:5])\n",
        "DOTA_TEST_DATASET = Dataset(DOTA_TEST_IMAGES, \"*.png\", DOTA_TEST_ANNOTATIONS, \"*.txt\")\n",
        "print(\"DOTA test dataset sample:\", list(DOTA_TEST_DATASET.ids)[:5])\n"
      ]
    },
    {
      "cell_type": "markdown",
      "metadata": {
        "id": "hhV95WFzZVvT"
      },
      "source": [
        "Populate Yolo datasets"
      ]
    },
    {
      "cell_type": "code",
      "execution_count": null,
      "metadata": {
        "colab": {
          "base_uri": "https://localhost:8080/"
        },
        "id": "wGB32YbXZVRM",
        "outputId": "f1a62e78-3120-45d8-c0b1-c9a7618013d9"
      },
      "outputs": [
        {
          "output_type": "stream",
          "name": "stdout",
          "text": [
            "Copying HRCS training dataset...\n",
            "...Copied!\n",
            "Copying HRCS validation dataset...\n"
          ]
        }
      ],
      "source": [
        "YOLO_HRSC_PATH = Path(\"yolo\") / \"HRSC\"\n",
        "YOLO_DOTA_PATH = Path(\"yolo\") / \"DOTA\"\n",
        "\n",
        "# YOLO expects this file structure:\n",
        "# ...dataset/\n",
        "# ├── images/\n",
        "# │   ├── train/\n",
        "# │   ├── val/\n",
        "# │   └── test/\n",
        "# └── labels/\n",
        "#     ├── train/\n",
        "#     ├── val/\n",
        "#     └── test/\n",
        "\n",
        "YOLO_HRSC_TRAIN_IMAGES = YOLO_HRSC_PATH / \"images/train\"\n",
        "YOLO_HRSC_TRAIN_LABELS = YOLO_HRSC_PATH / \"labels/train\"\n",
        "YOLO_HRSC_VAL_IMAGES = YOLO_HRSC_PATH / \"images/val\"\n",
        "YOLO_HRSC_VAL_LABELS = YOLO_HRSC_PATH / \"labels/val\"\n",
        "YOLO_HRSC_TEST_IMAGES = YOLO_HRSC_PATH / \"images/test\"\n",
        "YOLO_HRSC_TEST_LABELS = YOLO_HRSC_PATH / \"labels/test\"\n",
        "\n",
        "YOLO_DOTA_TRAIN_IMAGES = YOLO_DOTA_PATH / \"images/train\"\n",
        "YOLO_DOTA_TRAIN_LABELS = YOLO_DOTA_PATH / \"labels/train\"\n",
        "YOLO_DOTA_VAL_IMAGES = YOLO_DOTA_PATH / \"images/val\"\n",
        "YOLO_DOTA_VAL_LABELS = YOLO_DOTA_PATH / \"labels/val\"\n",
        "YOLO_DOTA_TEST_IMAGES = YOLO_DOTA_PATH / \"images/test\"\n",
        "YOLO_DOTA_TEST_LABELS = YOLO_DOTA_PATH / \"labels/test\"\n",
        "\n",
        "for p in [\n",
        "  YOLO_HRSC_TRAIN_IMAGES, YOLO_HRSC_TRAIN_LABELS,\n",
        "  YOLO_HRSC_VAL_IMAGES, YOLO_HRSC_VAL_LABELS,\n",
        "  YOLO_HRSC_TEST_IMAGES, YOLO_HRSC_TEST_LABELS,\n",
        "  YOLO_DOTA_TRAIN_IMAGES, YOLO_DOTA_TRAIN_LABELS,\n",
        "  YOLO_DOTA_VAL_IMAGES, YOLO_DOTA_VAL_LABELS,\n",
        "  YOLO_DOTA_TEST_IMAGES, YOLO_DOTA_TEST_LABELS,\n",
        "]:\n",
        "  p.mkdir(parents=True, exist_ok=True)\n",
        "\n",
        "import itertools\n",
        "\n",
        "def rsync_dataset(dataset: Dataset, images_folder: Path, labels_folder: Path):\n",
        "  os.system(f'rsync -av --progress \"{dataset.images_folder}/\" \"{images_folder}/\"')\n",
        "  os.system(f'rsync -av --progress \"{dataset.annotations_folder}/\" \"{labels_folder}/\"')\n",
        "\n",
        "  for f in itertools.chain(images_folder.iterdir(), labels_folder.iterdir()):\n",
        "    if f.stem not in dataset.ids:\n",
        "      f.unlink()\n",
        "\n",
        "print(\"Copying HRCS training dataset...\")\n",
        "rsync_dataset(HRSC_TRAIN_DATASET, YOLO_HRSC_TRAIN_IMAGES, YOLO_HRSC_TRAIN_LABELS)\n",
        "print(\"...Copied!\")\n",
        "print(\"Copying HRCS validation dataset...\")\n",
        "rsync_dataset(HRSC_VAL_DATASET, YOLO_HRSC_VAL_IMAGES, YOLO_HRSC_VAL_LABELS)\n",
        "print(\"...Copied!\")\n",
        "print(\"Copying HRCS testing dataset...\")\n",
        "rsync_dataset(HRSC_TEST_DATASET, YOLO_HRSC_TEST_IMAGES, YOLO_HRSC_TEST_LABELS)\n",
        "print(\"...Copied!\")\n",
        "print(\"Copying DOTA training dataset...\")\n",
        "rsync_dataset(DOTA_TRAIN_DATASET, YOLO_DOTA_TRAIN_IMAGES, YOLO_DOTA_TRAIN_LABELS)\n",
        "print(\"...Copied!\")\n",
        "print(\"Copying DOTA validation dataset...\")\n",
        "rsync_dataset(DOTA_VAL_DATASET, YOLO_DOTA_VAL_IMAGES, YOLO_DOTA_VAL_LABELS)\n",
        "print(\"...Copied!\")\n",
        "print(\"Copying DOTA testing dataset...\")\n",
        "rsync_dataset(DOTA_TEST_DATASET, YOLO_DOTA_TEST_IMAGES, YOLO_DOTA_TEST_LABELS)\n",
        "print(\"...Copied!\")"
      ]
    },
    {
      "cell_type": "markdown",
      "source": [
        "Convert HRSC annotations to YOLO format"
      ],
      "metadata": {
        "id": "DneUqDuQoZ0W"
      }
    },
    {
      "cell_type": "code",
      "source": [
        "import xml.etree.ElementTree as ET\n",
        "\n",
        "HRSC_CLASSES = set()\n",
        "\n",
        "def convert_hrsc_annotation_to_yolo_format(label_file: Path) -> int:\n",
        "  try:\n",
        "    tree = ET.parse(label_file.as_posix())\n",
        "    root = tree.getroot()\n",
        "\n",
        "    # Get image dimensions\n",
        "    width = int(root.find('.//Img_SizeWidth').text)\n",
        "    height = int(root.find('.//Img_SizeHeight').text)\n",
        "\n",
        "    yolo_lines = []\n",
        "\n",
        "    # Find all objects\n",
        "    objects = root.findall('.//HRSC_Object')\n",
        "    for obj in objects:\n",
        "      try:\n",
        "        # Get bounding box coordinates\n",
        "        xmin = float(obj.find('box_xmin').text)\n",
        "        ymin = float(obj.find('box_ymin').text)\n",
        "        xmax = float(obj.find('box_xmax').text)\n",
        "        ymax = float(obj.find('box_ymax').text)\n",
        "\n",
        "        # Convert to YOLO format (normalized)\n",
        "        x_center = (xmin + xmax) / 2 / width\n",
        "        y_center = (ymin + ymax) / 2 / height\n",
        "        bbox_width = (xmax - xmin) / width\n",
        "        bbox_height = (ymax - ymin) / height\n",
        "\n",
        "        # Class ID\n",
        "        class_id = int(obj.find('Class_ID').text)\n",
        "        HRSC_CLASSES.add(class_id)\n",
        "\n",
        "        yolo_lines.append(f\"{class_id} {x_center:.6f} {y_center:.6f} {bbox_width:.6f} {bbox_height:.6f}\")\n",
        "\n",
        "      except Exception as e:\n",
        "        print(f\"Warning: Could not parse object in {label_file.as_posix()}: {e}\")\n",
        "        continue\n",
        "\n",
        "    # Write YOLO format file\n",
        "    with open(label_file, 'w') as f:\n",
        "      f.write('\\n'.join(yolo_lines))\n",
        "    label_file.rename(label_file.with_suffix('.txt'))\n",
        "\n",
        "    return len(yolo_lines)\n",
        "\n",
        "  except Exception as e:\n",
        "    print(f\"Error processing {label_file.as_posix()}: {e}\")\n",
        "    return 0\n",
        "\n",
        "\n",
        "print(\"Converting training annotations...\")\n",
        "total_objects = 0\n",
        "for label_file in YOLO_HRSC_TRAIN_LABELS.iterdir():\n",
        "  objects_count = convert_hrsc_annotation_to_yolo_format(label_file)\n",
        "  total_objects += objects_count\n",
        "print(f\"...Conversion complete: {total_objects} total objects\")\n",
        "\n",
        "print(\"Converting validation annotations...\")\n",
        "total_objects = 0\n",
        "for label_file in YOLO_HRSC_VAL_LABELS.iterdir():\n",
        "  objects_count = convert_hrsc_annotation_to_yolo_format(label_file)\n",
        "  total_objects += objects_count\n",
        "print(f\"...Conversion complete: {total_objects} total objects\")\n",
        "\n",
        "print(\"Converting testing annotations...\")\n",
        "total_objects = 0\n",
        "for label_file in YOLO_HRSC_TEST_LABELS.iterdir():\n",
        "  objects_count = convert_hrsc_annotation_to_yolo_format(label_file)\n",
        "  total_objects += objects_count\n",
        "print(f\"...Conversion complete: {total_objects} total objects\")"
      ],
      "metadata": {
        "colab": {
          "base_uri": "https://localhost:8080/"
        },
        "id": "IBL2jxWiofQi",
        "outputId": "79ed19c9-466e-44b9-f3dd-bb89050062ee"
      },
      "execution_count": 27,
      "outputs": [
        {
          "output_type": "stream",
          "name": "stdout",
          "text": [
            "Converting training annotations...\n",
            "...Conversion complete: 1207 total objects\n",
            "Converting validation annotations...\n",
            "...Conversion complete: 541 total objects\n",
            "Converting testing annotations...\n",
            "...Conversion complete: 1228 total objects\n"
          ]
        }
      ]
    },
    {
      "cell_type": "markdown",
      "source": [
        "Write the YOLO configuration file for HRSC dataset"
      ],
      "metadata": {
        "id": "g09JsJPo7J7M"
      }
    },
    {
      "cell_type": "code",
      "source": [
        "import os\n",
        "\n",
        "# Output directory\n",
        "output_dir = Path('content/data/HRSC')\n",
        "output_dir.mkdir(parents=True, exist_ok=True)\n",
        "\n",
        "class_names = sorted(list(HRSC_CLASSES))\n",
        "yaml_content = f\"\"\"\n",
        "path: {output_dir}\n",
        "train: {YOLO_HRSC_TRAIN_IMAGES}\n",
        "val: {YOLO_HRSC_VAL_IMAGES}\n",
        "test: {YOLO_HRSC_TEST_IMAGES}\n",
        "nc: {len(class_names)}\n",
        "names: {class_names}\n",
        "\"\"\"\n",
        "\n",
        "# Write the YAML file\n",
        "yaml_path = output_dir / 'HRSC.yaml'\n",
        "with open(yaml_path, 'w') as f:\n",
        "    f.write(yaml_content)\n",
        "\n",
        "print(\"YAML configuration created:\", yaml_path.as_posix())\n",
        "print(\"YAML file content:\\n\")\n",
        "print(yaml_path.read_text())"
      ],
      "metadata": {
        "id": "T-2xb4aP7iWZ"
      },
      "execution_count": null,
      "outputs": []
    }
  ],
  "metadata": {
    "accelerator": "TPU",
    "colab": {
      "gpuType": "V5E1",
      "provenance": []
    },
    "kernelspec": {
      "display_name": "Python 3",
      "name": "python3"
    },
    "language_info": {
      "name": "python"
    }
  },
  "nbformat": 4,
  "nbformat_minor": 0
}